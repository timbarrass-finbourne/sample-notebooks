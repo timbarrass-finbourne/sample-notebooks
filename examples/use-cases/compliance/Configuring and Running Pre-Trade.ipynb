{
 "cells": [
  {
   "cell_type": "markdown",
   "metadata": {},
   "source": [
    "# Configuring and Running Pre-Trade Compliance\n",
    "\n",
    "In this example we demonstrate the configuration of several simple pre-trade rules, run them against a sample portfolio that has some orders placed against it, and show how the results can be used to identify breached orders, and pin down the cause of the breach."
   ]
  },
  {
   "cell_type": "markdown",
   "metadata": {},
   "source": [
    "## Imports"
   ]
  },
  {
   "cell_type": "code",
   "execution_count": 64,
   "metadata": {},
   "outputs": [
    {
     "name": "stdout",
     "output_type": "stream",
     "text": [
      "LUSID Environment Initialised\n",
      "API Version:  0.0.1.0\n"
     ]
    }
   ],
   "source": [
    "import lusid\n",
    "import lusid.models as models\n",
    "import lusid.api as la\n",
    "import lusid.models as lm\n",
    "from lusid.models.upsert_compliance_rule_request import UpsertComplianceRuleRequest\n",
    "from lusid.models.reference_list_request import ReferenceListRequest\n",
    "from lusid import ApiException\n",
    "from lusid.utilities import ApiClientFactory\n",
    "from lusidjam.refreshing_token import RefreshingToken\n",
    "from lusidtools.cocoon.cocoon import load_from_data_frame\n",
    "from lusidtools.pandas_utils.lusid_pandas import lusid_response_to_data_frame\n",
    "from lusidtools.cocoon.seed_sample_data import seed_data\n",
    "from lusidtools.cocoon.utilities import create_scope_id\n",
    "from lusidtools.cocoon.cocoon_printer import (\n",
    "    format_instruments_response,\n",
    "    format_portfolios_response,\n",
    "    format_transactions_response,\n",
    "    format_quotes_response,\n",
    "    format_holdings_response,\n",
    ")\n",
    "\n",
    "import helper_functions as hf\n",
    "from collections import defaultdict\n",
    "import pandas as pd\n",
    "import numpy as np\n",
    "import json\n",
    "import openpyxl\n",
    "import os\n",
    "import datetime\n",
    "from datetime import datetime, timedelta, time, date\n",
    "import pytz\n",
    "\n",
    "pd.set_option('display.max_columns', None)\n",
    "\n",
    "# Authenticate our user and create our API client\n",
    "secrets_path = os.getenv(\"FBN_SECRETS_PATH\")\n",
    "\n",
    "# Initiate an API Factory which is the client side object for interacting with LUSID APIs\n",
    "api_factory = lusid.utilities.ApiClientFactory(\n",
    "    token=RefreshingToken(),\n",
    "    api_secrets_filename = secrets_path,\n",
    "    app_name=\"LusidJupyterNotebook\")\n",
    "\n",
    "print ('LUSID Environment Initialised')\n",
    "print ('API Version: ', api_factory.build(lusid.api.ApplicationMetadataApi).get_lusid_versions().build_version)"
   ]
  },
  {
   "cell_type": "code",
   "execution_count": 65,
   "metadata": {},
   "outputs": [],
   "source": [
    "# define some APIs\n",
    "properties_api = api_factory.build(la.PropertyDefinitionsApi)\n",
    "referencelist_api = api_factory.build(la.ReferenceListsApi)\n",
    "compliance_api = api_factory.build(la.ComplianceApi)\n",
    "aggregation_api = api_factory.build(la.AggregationApi)\n",
    "configuration_recipe_api = api_factory.build(la.ConfigurationRecipeApi)\n",
    "portfolio_groups_api = api_factory.build(la.PortfolioGroupsApi)\n",
    "portfolios_api = api_factory.build(la.PortfoliosApi)\n",
    "instruments_api = api_factory.build(la.InstrumentsApi)"
   ]
  },
  {
   "cell_type": "code",
   "execution_count": 66,
   "metadata": {},
   "outputs": [],
   "source": [
    "# and some variables\n",
    "scope='simpleCompliance'\n",
    "portfolio_code='EQUITY_UK'\n",
    "portfolio_group_code='EQUITY_UK_GROUP'"
   ]
  },
  {
   "cell_type": "markdown",
   "metadata": {},
   "source": [
    "## 1. Create instruments, portfolio and transactions to work with\n",
    "\n",
    "We'll need a minimally populated environment to run compliance checks on.\n",
    "\n",
    "### 1.0 Load transaction data"
   ]
  },
  {
   "cell_type": "code",
   "execution_count": 67,
   "metadata": {},
   "outputs": [],
   "source": [
    "df = pd.read_csv(\"data/equity_transactions.csv\")"
   ]
  },
  {
   "cell_type": "markdown",
   "metadata": {},
   "source": [
    "### 1.1 Load instruments"
   ]
  },
  {
   "cell_type": "code",
   "execution_count": 68,
   "metadata": {},
   "outputs": [],
   "source": [
    "# Don't run this. It literally does what it says. It's just here if you need it.\n",
    "#delete_all_current_instruments(instruments_api)"
   ]
  },
  {
   "cell_type": "code",
   "execution_count": 69,
   "metadata": {},
   "outputs": [
    {
     "name": "stderr",
     "output_type": "stream",
     "text": [
      "/Users/tim/Documents/code/sample-notebooks/.venv/lib/python3.12/site-packages/lusidtools/cocoon/cocoon.py:1720: FutureWarning: DataFrame.applymap has been deprecated. Use DataFrame.map instead.\n",
      "  data_frame = data_frame.applymap(cocoon.utilities.convert_cell_value_to_string)\n"
     ]
    },
    {
     "data": {
      "text/html": [
       "<div>\n",
       "<style scoped>\n",
       "    .dataframe tbody tr th:only-of-type {\n",
       "        vertical-align: middle;\n",
       "    }\n",
       "\n",
       "    .dataframe tbody tr th {\n",
       "        vertical-align: top;\n",
       "    }\n",
       "\n",
       "    .dataframe thead th {\n",
       "        text-align: right;\n",
       "    }\n",
       "</style>\n",
       "<table border=\"1\" class=\"dataframe\">\n",
       "  <thead>\n",
       "    <tr style=\"text-align: right;\">\n",
       "      <th></th>\n",
       "      <th>success</th>\n",
       "      <th>failed</th>\n",
       "      <th>errors</th>\n",
       "    </tr>\n",
       "  </thead>\n",
       "  <tbody>\n",
       "    <tr>\n",
       "      <th>0</th>\n",
       "      <td>10</td>\n",
       "      <td>0</td>\n",
       "      <td>0</td>\n",
       "    </tr>\n",
       "  </tbody>\n",
       "</table>\n",
       "</div>"
      ],
      "text/plain": [
       "   success  failed  errors\n",
       "0       10       0       0"
      ]
     },
     "execution_count": 69,
     "metadata": {},
     "output_type": "execute_result"
    }
   ],
   "source": [
    "instrument_mapping = {\n",
    "    \"identifier_mapping\": {\n",
    "        \"ClientInternal\": \"instrument_id\",\n",
    "        \"Isin\": \"ISIN\",\n",
    "        \"Sedol\": \"sedol\",\n",
    "    },\n",
    "    \"required\": {\"name\": \"name\"},\n",
    "}\n",
    "\n",
    "result = load_from_data_frame(\n",
    "    api_factory=api_factory,\n",
    "    scope=scope,\n",
    "    data_frame=df,\n",
    "    mapping_required=instrument_mapping[\"required\"],\n",
    "    mapping_optional={},\n",
    "    file_type=\"instruments\",\n",
    "    identifier_mapping=instrument_mapping[\"identifier_mapping\"],\n",
    "    property_columns=[\"sector\"],\n",
    ")\n",
    "\n",
    "succ, failed, errors = format_instruments_response(result)\n",
    "pd.DataFrame(\n",
    "    data=[{\"success\": len(succ), \"failed\": len(failed), \"errors\": len(errors)}]\n",
    ")"
   ]
  },
  {
   "cell_type": "markdown",
   "metadata": {},
   "source": [
    "### 1.2 Create portfolio"
   ]
  },
  {
   "cell_type": "code",
   "execution_count": 70,
   "metadata": {},
   "outputs": [
    {
     "name": "stdout",
     "output_type": "stream",
     "text": [
      "Deleting:\n",
      "Code: EQUITY_UK \n",
      "Scope: simpleCompliance\n",
      "All scopes deleted\n"
     ]
    }
   ],
   "source": [
    "# Don't do this either. Really.\n",
    "hf.delete_all_current_portfolios(portfolios_api, scope)"
   ]
  },
  {
   "cell_type": "code",
   "execution_count": 71,
   "metadata": {},
   "outputs": [
    {
     "name": "stderr",
     "output_type": "stream",
     "text": [
      "/Users/tim/Documents/code/sample-notebooks/.venv/lib/python3.12/site-packages/lusidtools/cocoon/cocoon.py:1720: FutureWarning: DataFrame.applymap has been deprecated. Use DataFrame.map instead.\n",
      "  data_frame = data_frame.applymap(cocoon.utilities.convert_cell_value_to_string)\n"
     ]
    },
    {
     "data": {
      "text/html": [
       "<div>\n",
       "<style scoped>\n",
       "    .dataframe tbody tr th:only-of-type {\n",
       "        vertical-align: middle;\n",
       "    }\n",
       "\n",
       "    .dataframe tbody tr th {\n",
       "        vertical-align: top;\n",
       "    }\n",
       "\n",
       "    .dataframe thead th {\n",
       "        text-align: right;\n",
       "    }\n",
       "</style>\n",
       "<table border=\"1\" class=\"dataframe\">\n",
       "  <thead>\n",
       "    <tr style=\"text-align: right;\">\n",
       "      <th></th>\n",
       "      <th>success</th>\n",
       "      <th>failed</th>\n",
       "      <th>errors</th>\n",
       "    </tr>\n",
       "  </thead>\n",
       "  <tbody>\n",
       "    <tr>\n",
       "      <th>0</th>\n",
       "      <td>1</td>\n",
       "      <td>0</td>\n",
       "      <td>0</td>\n",
       "    </tr>\n",
       "  </tbody>\n",
       "</table>\n",
       "</div>"
      ],
      "text/plain": [
       "   success  failed  errors\n",
       "0        1       0       0"
      ]
     },
     "execution_count": 71,
     "metadata": {},
     "output_type": "execute_result"
    }
   ],
   "source": [
    "portfolio_mapping = {\n",
    "    \"required\": {\n",
    "        \"code\": \"portfolio_code\",\n",
    "        \"display_name\": \"portfolio_name\",\n",
    "        \"base_currency\": \"$USD\",\n",
    "    },\n",
    "    \"optional\": {\"created\": \"$2020-01-01T00:00:00+00:00\"},\n",
    "}\n",
    "\n",
    "result = load_from_data_frame(\n",
    "    api_factory=api_factory,\n",
    "    scope=scope,\n",
    "    data_frame=df,\n",
    "    mapping_required=portfolio_mapping[\"required\"],\n",
    "    mapping_optional=portfolio_mapping[\"optional\"],\n",
    "    file_type=\"portfolios\",\n",
    "    sub_holding_keys=[],\n",
    ")\n",
    "\n",
    "succ, failed = format_portfolios_response(result)\n",
    "pd.DataFrame(\n",
    "    data=[{\"success\": len(succ), \"failed\": len(failed), \"errors\": len(errors)}]\n",
    ")"
   ]
  },
  {
   "cell_type": "markdown",
   "metadata": {},
   "source": [
    "### 1.3 Create portfolio group"
   ]
  },
  {
   "cell_type": "code",
   "execution_count": 72,
   "metadata": {},
   "outputs": [],
   "source": [
    "result = hf.create_portfolio_group(portfolio_groups_api, scope, portfolio_group_code, [lm.ResourceId(scope=scope, code=portfolio_code)])"
   ]
  },
  {
   "cell_type": "markdown",
   "metadata": {},
   "source": [
    "### 1.4 Load transactions"
   ]
  },
  {
   "cell_type": "code",
   "execution_count": 73,
   "metadata": {},
   "outputs": [
    {
     "name": "stderr",
     "output_type": "stream",
     "text": [
      "/Users/tim/Documents/code/sample-notebooks/.venv/lib/python3.12/site-packages/lusidtools/cocoon/cocoon.py:1720: FutureWarning: DataFrame.applymap has been deprecated. Use DataFrame.map instead.\n",
      "  data_frame = data_frame.applymap(cocoon.utilities.convert_cell_value_to_string)\n"
     ]
    },
    {
     "data": {
      "text/html": [
       "<div>\n",
       "<style scoped>\n",
       "    .dataframe tbody tr th:only-of-type {\n",
       "        vertical-align: middle;\n",
       "    }\n",
       "\n",
       "    .dataframe tbody tr th {\n",
       "        vertical-align: top;\n",
       "    }\n",
       "\n",
       "    .dataframe thead th {\n",
       "        text-align: right;\n",
       "    }\n",
       "</style>\n",
       "<table border=\"1\" class=\"dataframe\">\n",
       "  <thead>\n",
       "    <tr style=\"text-align: right;\">\n",
       "      <th></th>\n",
       "      <th>success</th>\n",
       "      <th>failed</th>\n",
       "      <th>errors</th>\n",
       "    </tr>\n",
       "  </thead>\n",
       "  <tbody>\n",
       "    <tr>\n",
       "      <th>0</th>\n",
       "      <td>1</td>\n",
       "      <td>0</td>\n",
       "      <td>0</td>\n",
       "    </tr>\n",
       "  </tbody>\n",
       "</table>\n",
       "</div>"
      ],
      "text/plain": [
       "   success  failed  errors\n",
       "0        1       0       0"
      ]
     },
     "execution_count": 73,
     "metadata": {},
     "output_type": "execute_result"
    }
   ],
   "source": [
    "transaction_mapping = {\n",
    "    \"identifier_mapping\": {\"ClientInternal\": \"instrument_id\",},\n",
    "    \"required\": {\n",
    "        \"code\": \"portfolio_code\",\n",
    "        \"transaction_id\": \"txn_id\",\n",
    "        \"type\": \"txn_type\",\n",
    "        \"transaction_price.price\": \"txn_price\",\n",
    "        \"transaction_price.type\": \"$Price\",\n",
    "        \"total_consideration.amount\": \"txn_consideration\",\n",
    "        \"units\": \"txn_units\",\n",
    "        \"transaction_date\": \"txn_trade_date\",\n",
    "        \"total_consideration.currency\": \"portfolio_base_currency\",\n",
    "        \"settlement_date\": \"txn_settle_date\",\n",
    "    },\n",
    "    \"optional\": {},\n",
    "    \"properties\": [],\n",
    "}\n",
    "\n",
    "result = load_from_data_frame(\n",
    "    api_factory=api_factory,\n",
    "    scope=scope,\n",
    "    data_frame=df,\n",
    "    mapping_required=transaction_mapping[\"required\"],\n",
    "    mapping_optional=transaction_mapping[\"optional\"],\n",
    "    file_type=\"transactions\",\n",
    "    identifier_mapping=transaction_mapping[\"identifier_mapping\"],\n",
    "    property_columns=transaction_mapping[\"properties\"],\n",
    "    properties_scope=scope,\n",
    ")\n",
    "\n",
    "succ, failed = format_transactions_response(result)\n",
    "pd.DataFrame(\n",
    "    data=[{\"success\": len(succ), \"failed\": len(failed), \"errors\": len(errors)}]\n",
    ")"
   ]
  },
  {
   "cell_type": "markdown",
   "metadata": {},
   "source": [
    "### 1.5 Load quotes"
   ]
  },
  {
   "cell_type": "code",
   "execution_count": 74,
   "metadata": {},
   "outputs": [
    {
     "data": {
      "text/html": [
       "<div>\n",
       "<style scoped>\n",
       "    .dataframe tbody tr th:only-of-type {\n",
       "        vertical-align: middle;\n",
       "    }\n",
       "\n",
       "    .dataframe tbody tr th {\n",
       "        vertical-align: top;\n",
       "    }\n",
       "\n",
       "    .dataframe thead th {\n",
       "        text-align: right;\n",
       "    }\n",
       "</style>\n",
       "<table border=\"1\" class=\"dataframe\">\n",
       "  <thead>\n",
       "    <tr style=\"text-align: right;\">\n",
       "      <th></th>\n",
       "      <th>ISIN</th>\n",
       "      <th>quote_date</th>\n",
       "      <th>bid</th>\n",
       "      <th>mid</th>\n",
       "      <th>ask</th>\n",
       "    </tr>\n",
       "  </thead>\n",
       "  <tbody>\n",
       "    <tr>\n",
       "      <th>0</th>\n",
       "      <td>GB0002162385</td>\n",
       "      <td>29-Jan-24</td>\n",
       "      <td>2.29</td>\n",
       "      <td>2.30</td>\n",
       "      <td>2.31</td>\n",
       "    </tr>\n",
       "    <tr>\n",
       "      <th>1</th>\n",
       "      <td>GB00BH0P3Z91</td>\n",
       "      <td>29-Jan-24</td>\n",
       "      <td>12.81</td>\n",
       "      <td>12.87</td>\n",
       "      <td>12.93</td>\n",
       "    </tr>\n",
       "    <tr>\n",
       "      <th>2</th>\n",
       "      <td>GB0031348658</td>\n",
       "      <td>29-Jan-24</td>\n",
       "      <td>0.88</td>\n",
       "      <td>1.88</td>\n",
       "      <td>0.88</td>\n",
       "    </tr>\n",
       "    <tr>\n",
       "      <th>3</th>\n",
       "      <td>GB0007980591</td>\n",
       "      <td>29-Jan-24</td>\n",
       "      <td>3.06</td>\n",
       "      <td>3.08</td>\n",
       "      <td>3.10</td>\n",
       "    </tr>\n",
       "    <tr>\n",
       "      <th>4</th>\n",
       "      <td>GB0005405286</td>\n",
       "      <td>29-Jan-24</td>\n",
       "      <td>4.00</td>\n",
       "      <td>4.02</td>\n",
       "      <td>4.04</td>\n",
       "    </tr>\n",
       "    <tr>\n",
       "      <th>5</th>\n",
       "      <td>GB0006043169</td>\n",
       "      <td>29-Jan-24</td>\n",
       "      <td>1.87</td>\n",
       "      <td>1.88</td>\n",
       "      <td>1.89</td>\n",
       "    </tr>\n",
       "    <tr>\n",
       "      <th>6</th>\n",
       "      <td>GB0008847096</td>\n",
       "      <td>29-Jan-24</td>\n",
       "      <td>2.35</td>\n",
       "      <td>2.36</td>\n",
       "      <td>2.37</td>\n",
       "    </tr>\n",
       "    <tr>\n",
       "      <th>7</th>\n",
       "      <td>GB00BGDT3G23</td>\n",
       "      <td>29-Jan-24</td>\n",
       "      <td>4.63</td>\n",
       "      <td>4.65</td>\n",
       "      <td>4.67</td>\n",
       "    </tr>\n",
       "    <tr>\n",
       "      <th>8</th>\n",
       "      <td>GB00BH4HKS39</td>\n",
       "      <td>29-Jan-24</td>\n",
       "      <td>1.08</td>\n",
       "      <td>1.09</td>\n",
       "      <td>1.10</td>\n",
       "    </tr>\n",
       "    <tr>\n",
       "      <th>9</th>\n",
       "      <td>GB00B1XZS820</td>\n",
       "      <td>29-Jan-24</td>\n",
       "      <td>13.90</td>\n",
       "      <td>13.97</td>\n",
       "      <td>14.04</td>\n",
       "    </tr>\n",
       "  </tbody>\n",
       "</table>\n",
       "</div>"
      ],
      "text/plain": [
       "           ISIN quote_date    bid    mid    ask\n",
       "0  GB0002162385  29-Jan-24   2.29   2.30   2.31\n",
       "1  GB00BH0P3Z91  29-Jan-24  12.81  12.87  12.93\n",
       "2  GB0031348658  29-Jan-24   0.88   1.88   0.88\n",
       "3  GB0007980591  29-Jan-24   3.06   3.08   3.10\n",
       "4  GB0005405286  29-Jan-24   4.00   4.02   4.04\n",
       "5  GB0006043169  29-Jan-24   1.87   1.88   1.89\n",
       "6  GB0008847096  29-Jan-24   2.35   2.36   2.37\n",
       "7  GB00BGDT3G23  29-Jan-24   4.63   4.65   4.67\n",
       "8  GB00BH4HKS39  29-Jan-24   1.08   1.09   1.10\n",
       "9  GB00B1XZS820  29-Jan-24  13.90  13.97  14.04"
      ]
     },
     "execution_count": 74,
     "metadata": {},
     "output_type": "execute_result"
    }
   ],
   "source": [
    "quotes_df = pd.read_csv(\"data/equity_quotes.csv\")\n",
    "# Compliance runs at latest asat\n",
    "quotes_df['quote_date'] = quotes_df['quote_date'].apply(lambda s: datetime.now(pytz.UTC).strftime(\"%d-%b-%y\"))\n",
    "quotes_df"
   ]
  },
  {
   "cell_type": "code",
   "execution_count": 75,
   "metadata": {},
   "outputs": [
    {
     "name": "stderr",
     "output_type": "stream",
     "text": [
      "/Users/tim/Documents/code/sample-notebooks/.venv/lib/python3.12/site-packages/lusidtools/cocoon/cocoon.py:1720: FutureWarning: DataFrame.applymap has been deprecated. Use DataFrame.map instead.\n",
      "  data_frame = data_frame.applymap(cocoon.utilities.convert_cell_value_to_string)\n"
     ]
    },
    {
     "data": {
      "text/html": [
       "<div>\n",
       "<style scoped>\n",
       "    .dataframe tbody tr th:only-of-type {\n",
       "        vertical-align: middle;\n",
       "    }\n",
       "\n",
       "    .dataframe tbody tr th {\n",
       "        vertical-align: top;\n",
       "    }\n",
       "\n",
       "    .dataframe thead th {\n",
       "        text-align: right;\n",
       "    }\n",
       "</style>\n",
       "<table border=\"1\" class=\"dataframe\">\n",
       "  <thead>\n",
       "    <tr style=\"text-align: right;\">\n",
       "      <th></th>\n",
       "      <th>[bid] success</th>\n",
       "      <th>failed</th>\n",
       "      <th>errors</th>\n",
       "    </tr>\n",
       "  </thead>\n",
       "  <tbody>\n",
       "    <tr>\n",
       "      <th>0</th>\n",
       "      <td>10</td>\n",
       "      <td>0</td>\n",
       "      <td>0</td>\n",
       "    </tr>\n",
       "  </tbody>\n",
       "</table>\n",
       "</div>"
      ],
      "text/plain": [
       "   [bid] success  failed  errors\n",
       "0             10       0       0"
      ]
     },
     "metadata": {},
     "output_type": "display_data"
    },
    {
     "name": "stderr",
     "output_type": "stream",
     "text": [
      "/Users/tim/Documents/code/sample-notebooks/.venv/lib/python3.12/site-packages/lusidtools/cocoon/cocoon.py:1720: FutureWarning: DataFrame.applymap has been deprecated. Use DataFrame.map instead.\n",
      "  data_frame = data_frame.applymap(cocoon.utilities.convert_cell_value_to_string)\n"
     ]
    },
    {
     "data": {
      "text/html": [
       "<div>\n",
       "<style scoped>\n",
       "    .dataframe tbody tr th:only-of-type {\n",
       "        vertical-align: middle;\n",
       "    }\n",
       "\n",
       "    .dataframe tbody tr th {\n",
       "        vertical-align: top;\n",
       "    }\n",
       "\n",
       "    .dataframe thead th {\n",
       "        text-align: right;\n",
       "    }\n",
       "</style>\n",
       "<table border=\"1\" class=\"dataframe\">\n",
       "  <thead>\n",
       "    <tr style=\"text-align: right;\">\n",
       "      <th></th>\n",
       "      <th>[mid] success</th>\n",
       "      <th>failed</th>\n",
       "      <th>errors</th>\n",
       "    </tr>\n",
       "  </thead>\n",
       "  <tbody>\n",
       "    <tr>\n",
       "      <th>0</th>\n",
       "      <td>10</td>\n",
       "      <td>0</td>\n",
       "      <td>0</td>\n",
       "    </tr>\n",
       "  </tbody>\n",
       "</table>\n",
       "</div>"
      ],
      "text/plain": [
       "   [mid] success  failed  errors\n",
       "0             10       0       0"
      ]
     },
     "metadata": {},
     "output_type": "display_data"
    },
    {
     "name": "stderr",
     "output_type": "stream",
     "text": [
      "/Users/tim/Documents/code/sample-notebooks/.venv/lib/python3.12/site-packages/lusidtools/cocoon/cocoon.py:1720: FutureWarning: DataFrame.applymap has been deprecated. Use DataFrame.map instead.\n",
      "  data_frame = data_frame.applymap(cocoon.utilities.convert_cell_value_to_string)\n"
     ]
    },
    {
     "data": {
      "text/html": [
       "<div>\n",
       "<style scoped>\n",
       "    .dataframe tbody tr th:only-of-type {\n",
       "        vertical-align: middle;\n",
       "    }\n",
       "\n",
       "    .dataframe tbody tr th {\n",
       "        vertical-align: top;\n",
       "    }\n",
       "\n",
       "    .dataframe thead th {\n",
       "        text-align: right;\n",
       "    }\n",
       "</style>\n",
       "<table border=\"1\" class=\"dataframe\">\n",
       "  <thead>\n",
       "    <tr style=\"text-align: right;\">\n",
       "      <th></th>\n",
       "      <th>[ask] success</th>\n",
       "      <th>failed</th>\n",
       "      <th>errors</th>\n",
       "    </tr>\n",
       "  </thead>\n",
       "  <tbody>\n",
       "    <tr>\n",
       "      <th>0</th>\n",
       "      <td>10</td>\n",
       "      <td>0</td>\n",
       "      <td>0</td>\n",
       "    </tr>\n",
       "  </tbody>\n",
       "</table>\n",
       "</div>"
      ],
      "text/plain": [
       "   [ask] success  failed  errors\n",
       "0             10       0       0"
      ]
     },
     "metadata": {},
     "output_type": "display_data"
    }
   ],
   "source": [
    "price_fields = [\"bid\", \"mid\", \"ask\"]\n",
    "\n",
    "quotes_mapping = {\n",
    "    \"quote_id.quote_series_id.instrument_id_type\": \"$Isin\",\n",
    "    \"quote_id.effective_at\": \"quote_date\",\n",
    "    \"quote_id.quote_series_id.provider\": \"$Lusid\",\n",
    "    \"quote_id.quote_series_id.quote_type\": \"$Price\",\n",
    "    \"quote_id.quote_series_id.instrument_id\": \"ISIN\",\n",
    "    \"metric_value.unit\": \"$USD\",\n",
    "}\n",
    "\n",
    "for price_field in price_fields:\n",
    "\n",
    "    quotes_mapping[\"quote_id.quote_series_id.field\"] = f\"${price_field}\"\n",
    "    quotes_mapping[\"metric_value.value\"] = price_field\n",
    "\n",
    "    result = load_from_data_frame(\n",
    "        api_factory=api_factory,\n",
    "        scope=scope,\n",
    "        data_frame=quotes_df,\n",
    "        mapping_required=quotes_mapping,\n",
    "        mapping_optional={},\n",
    "        file_type=\"quotes\",\n",
    "    )\n",
    "\n",
    "    succ, failed, errors = format_quotes_response(result)\n",
    "    display(\n",
    "        pd.DataFrame(\n",
    "            data=[\n",
    "                {\n",
    "                    f\"[{price_field}] success\": len(succ),\n",
    "                    \"failed\": len(failed),\n",
    "                    \"errors\": len(errors),\n",
    "                }\n",
    "            ]\n",
    "        )\n",
    "    )"
   ]
  },
  {
   "cell_type": "markdown",
   "metadata": {},
   "source": [
    "### 1.6 Create recipes"
   ]
  },
  {
   "cell_type": "code",
   "execution_count": 76,
   "metadata": {},
   "outputs": [],
   "source": [
    "for price_field in [\"mid\", \"bid\", \"ask\"]:\n",
    "\n",
    "    # Create a recipe to perform a valuation\n",
    "    configuration_recipe = models.ConfigurationRecipe(\n",
    "        scope=\"User\",\n",
    "        code=\"valuation_recipe\" + \"_\" + price_field,\n",
    "        market=models.MarketContext(\n",
    "            market_rules=[\n",
    "                # define how to resolve the quotes\n",
    "                models.MarketDataKeyRule(\n",
    "                    key=\"Quote.Isin.*\",\n",
    "                    supplier=\"Lusid\",\n",
    "                    data_scope=scope,\n",
    "                    quote_type=\"Price\",\n",
    "                    field=price_field,\n",
    "                ),\n",
    "            ],\n",
    "            options=models.MarketOptions(\n",
    "                default_supplier=\"Lusid\",\n",
    "                default_instrument_code_type=\"Isin\",\n",
    "                default_scope=scope,\n",
    "            ),\n",
    "        ),\n",
    "        pricing=models.PricingContext(\n",
    "            options={\"AllowPartiallySuccessfulEvaluation\": True},\n",
    "        ),\n",
    "    )\n",
    "\n",
    "    upsert_configuration_recipe_response = configuration_recipe_api.upsert_configuration_recipe(\n",
    "        upsert_recipe_request=models.UpsertRecipeRequest(\n",
    "            configuration_recipe=configuration_recipe\n",
    "        )\n",
    "    )"
   ]
  },
  {
   "cell_type": "markdown",
   "metadata": {},
   "source": [
    "### Run a test valuation"
   ]
  },
  {
   "cell_type": "code",
   "execution_count": 77,
   "metadata": {},
   "outputs": [
    {
     "data": {
      "text/html": [
       "<div>\n",
       "<style scoped>\n",
       "    .dataframe tbody tr th:only-of-type {\n",
       "        vertical-align: middle;\n",
       "    }\n",
       "\n",
       "    .dataframe tbody tr th {\n",
       "        vertical-align: top;\n",
       "    }\n",
       "\n",
       "    .dataframe thead th {\n",
       "        text-align: right;\n",
       "    }\n",
       "</style>\n",
       "<table border=\"1\" class=\"dataframe\">\n",
       "  <thead>\n",
       "    <tr style=\"text-align: right;\">\n",
       "      <th></th>\n",
       "      <th>Instrument/default/Name</th>\n",
       "      <th>Proportion(Valuation/PvInReportCcy)</th>\n",
       "      <th>Sum(Valuation/PvInReportCcy)</th>\n",
       "      <th>Sum(Holding/default/Units)</th>\n",
       "      <th>Aggregation/Errors</th>\n",
       "    </tr>\n",
       "  </thead>\n",
       "  <tbody>\n",
       "    <tr>\n",
       "      <th>0</th>\n",
       "      <td>Aviva</td>\n",
       "      <td>0.080752</td>\n",
       "      <td>276000.0</td>\n",
       "      <td>120000.0</td>\n",
       "      <td>[]</td>\n",
       "    </tr>\n",
       "    <tr>\n",
       "      <th>1</th>\n",
       "      <td>BHP</td>\n",
       "      <td>0.225929</td>\n",
       "      <td>772200.0</td>\n",
       "      <td>60000.0</td>\n",
       "      <td>[]</td>\n",
       "    </tr>\n",
       "    <tr>\n",
       "      <th>2</th>\n",
       "      <td>Barclays</td>\n",
       "      <td>0.082507</td>\n",
       "      <td>282000.0</td>\n",
       "      <td>150000.0</td>\n",
       "      <td>[]</td>\n",
       "    </tr>\n",
       "    <tr>\n",
       "      <th>3</th>\n",
       "      <td>BP</td>\n",
       "      <td>0.090114</td>\n",
       "      <td>308000.0</td>\n",
       "      <td>100000.0</td>\n",
       "      <td>[]</td>\n",
       "    </tr>\n",
       "    <tr>\n",
       "      <th>4</th>\n",
       "      <td>HSBC</td>\n",
       "      <td>0.023523</td>\n",
       "      <td>80400.0</td>\n",
       "      <td>20000.0</td>\n",
       "      <td>[]</td>\n",
       "    </tr>\n",
       "    <tr>\n",
       "      <th>5</th>\n",
       "      <td>Morrisons</td>\n",
       "      <td>0.099008</td>\n",
       "      <td>338400.0</td>\n",
       "      <td>180000.0</td>\n",
       "      <td>[]</td>\n",
       "    </tr>\n",
       "    <tr>\n",
       "      <th>6</th>\n",
       "      <td>Rightmove</td>\n",
       "      <td>0.108839</td>\n",
       "      <td>372000.0</td>\n",
       "      <td>80000.0</td>\n",
       "      <td>[]</td>\n",
       "    </tr>\n",
       "    <tr>\n",
       "      <th>7</th>\n",
       "      <td>vodafone</td>\n",
       "      <td>0.143510</td>\n",
       "      <td>490500.0</td>\n",
       "      <td>450000.0</td>\n",
       "      <td>[]</td>\n",
       "    </tr>\n",
       "    <tr>\n",
       "      <th>8</th>\n",
       "      <td>Anglo American plc</td>\n",
       "      <td>0.143056</td>\n",
       "      <td>488950.0</td>\n",
       "      <td>35000.0</td>\n",
       "      <td>[]</td>\n",
       "    </tr>\n",
       "    <tr>\n",
       "      <th>9</th>\n",
       "      <td>Tesco</td>\n",
       "      <td>0.002762</td>\n",
       "      <td>9440.0</td>\n",
       "      <td>4000.0</td>\n",
       "      <td>[]</td>\n",
       "    </tr>\n",
       "  </tbody>\n",
       "</table>\n",
       "</div>"
      ],
      "text/plain": [
       "  Instrument/default/Name  Proportion(Valuation/PvInReportCcy)  \\\n",
       "0                   Aviva                             0.080752   \n",
       "1                     BHP                             0.225929   \n",
       "2                Barclays                             0.082507   \n",
       "3                      BP                             0.090114   \n",
       "4                    HSBC                             0.023523   \n",
       "5               Morrisons                             0.099008   \n",
       "6               Rightmove                             0.108839   \n",
       "7                vodafone                             0.143510   \n",
       "8      Anglo American plc                             0.143056   \n",
       "9                   Tesco                             0.002762   \n",
       "\n",
       "   Sum(Valuation/PvInReportCcy)  Sum(Holding/default/Units) Aggregation/Errors  \n",
       "0                      276000.0                    120000.0                 []  \n",
       "1                      772200.0                     60000.0                 []  \n",
       "2                      282000.0                    150000.0                 []  \n",
       "3                      308000.0                    100000.0                 []  \n",
       "4                       80400.0                     20000.0                 []  \n",
       "5                      338400.0                    180000.0                 []  \n",
       "6                      372000.0                     80000.0                 []  \n",
       "7                      490500.0                    450000.0                 []  \n",
       "8                      488950.0                     35000.0                 []  \n",
       "9                        9440.0                      4000.0                 []  "
      ]
     },
     "execution_count": 77,
     "metadata": {},
     "output_type": "execute_result"
    }
   ],
   "source": [
    "aggregation = aggregation_api.get_valuation(\n",
    "    valuation_request = hf.generate_valuation_request(\n",
    "        datetime.now(pytz.UTC), \"mid\", scope, portfolio_code\n",
    "    )\n",
    ")\n",
    "\n",
    "pd.DataFrame(aggregation.data)"
   ]
  },
  {
   "cell_type": "markdown",
   "metadata": {},
   "source": [
    "## 2. Define properties and supporting data"
   ]
  },
  {
   "cell_type": "code",
   "execution_count": 78,
   "metadata": {},
   "outputs": [],
   "source": [
    "try:\n",
    "    hf.create_property_definition(properties_api, \"Portfolio\", scope, 'Placeholder', \"string\")\n",
    "except:\n",
    "    pass"
   ]
  },
  {
   "cell_type": "markdown",
   "metadata": {},
   "source": [
    "### 2.1 Decorate entities with properties"
   ]
  },
  {
   "cell_type": "code",
   "execution_count": 79,
   "metadata": {},
   "outputs": [],
   "source": [
    "response = portfolios_api.upsert_portfolio_properties(\n",
    "        scope=scope,\n",
    "        code=portfolio_code,\n",
    "        request_body={\n",
    "            \"Portfolio/{}/Placeholder\".format(\n",
    "                scope\n",
    "            ): models.ModelProperty(\n",
    "                key=\"Portfolio/{}/Placeholder\".format(scope),\n",
    "                value=models.PropertyValue(label_value='PlaceholderValue'),\n",
    "            )\n",
    "        },\n",
    "    )"
   ]
  },
  {
   "cell_type": "markdown",
   "metadata": {},
   "source": [
    "### 2.2 Create reference lists\n",
    "\n",
    "We need a couple of empty lists to allow pass-through behaviour."
   ]
  },
  {
   "cell_type": "code",
   "execution_count": 80,
   "metadata": {},
   "outputs": [],
   "source": [
    "request = ReferenceListRequest(\n",
    "    id=lm.ResourceId(\n",
    "        scope=scope,\n",
    "        code='empty-list'\n",
    "    ),\n",
    "    name=\"empty string list\",\n",
    "    description=\"some description\",\n",
    "    tags=[],\n",
    "    reference_list=lm.StringList(\n",
    "        reference_list_type='StringList',\n",
    "        values=[]\n",
    "    )\n",
    ")\n",
    "\n",
    "empty_list_response = referencelist_api.upsert_reference_list_with_http_info(reference_list_request=request)\n",
    "\n",
    "request = ReferenceListRequest(\n",
    "    id=lm.ResourceId(\n",
    "        scope=scope,\n",
    "        code='empty-portfolio-list'\n",
    "    ),\n",
    "    name=\"empty portfolioid list\",\n",
    "    description=\"some description\",\n",
    "    tags=[],\n",
    "    reference_list=lm.PortfolioIdList(\n",
    "        reference_list_type='PortfolioIdList',\n",
    "        values=[]\n",
    "    )\n",
    ")\n",
    "\n",
    "empty_portfolioid_list_response = referencelist_api.upsert_reference_list_with_http_info(reference_list_request=request)\n",
    "\n",
    "request = ReferenceListRequest(\n",
    "    id=lm.ResourceId(\n",
    "        scope=scope,\n",
    "        code='restricted-sectors'\n",
    "    ),\n",
    "    name=\"restricted sectors list\",\n",
    "    description=\"some description\",\n",
    "    tags=[],\n",
    "    reference_list=lm.StringList(\n",
    "        reference_list_type='StringList',\n",
    "        values=[\"Mining\"]\n",
    "    )\n",
    ")\n",
    "\n",
    "empty_portfolioid_list_response = referencelist_api.upsert_reference_list_with_http_info(reference_list_request=request)\n"
   ]
  },
  {
   "cell_type": "markdown",
   "metadata": {},
   "source": [
    "## 3. Setup compliance rules"
   ]
  },
  {
   "cell_type": "markdown",
   "metadata": {},
   "source": [
    "### 3.1 A simple PV contribution threshold check"
   ]
  },
  {
   "cell_type": "code",
   "execution_count": 81,
   "metadata": {},
   "outputs": [],
   "source": [
    "pvInReportCcy = lm.AddressKeyComplianceParameter(\"passed_validation\", compliance_parameter_type='AddressKeyComplianceParameter')\n",
    "pvInReportCcy._value = \"Valuation/PvInReportCcy\"\n",
    "\n",
    "upsert_compliance_rule_request = UpsertComplianceRuleRequest(\n",
    "    id=lm.ResourceId(scope=scope, code='rule-1'),\n",
    "    name='threshold-pv-check',\n",
    "    description='Simple threshold PV check',\n",
    "    template_id=lm.ResourceId(scope='system', code='PercentCheck'),\n",
    "    variation='simple',\n",
    "    portfolio_group_id=lm.ResourceId(scope=scope, code=portfolio_group_code),\n",
    "    active=True,\n",
    "    parameters={\n",
    "        \"Metric\": pvInReportCcy,\n",
    "        \"UpperBound\":    hf.decimal_parameter(10),\n",
    "        \"LowerBound\":    hf.decimal_parameter(-1),\n",
    "        \"UpperWarning\":  hf.decimal_parameter(30),\n",
    "        \"LowerWarning\":  hf.decimal_parameter(-1),\n",
    "        \"GroupingPropertyKey\":  hf.propertykey_parameter(\"Instrument/default/Isin\")\n",
    "    },\n",
    "    properties={}\n",
    ")\n",
    "\n",
    "compliance_api.upsert_compliance_rule(upsert_compliance_rule_request=upsert_compliance_rule_request)"
   ]
  },
  {
   "cell_type": "markdown",
   "metadata": {},
   "source": [
    "### 3.2 A restricted sector check"
   ]
  },
  {
   "cell_type": "code",
   "execution_count": 82,
   "metadata": {},
   "outputs": [],
   "source": [
    "upsert_compliance_rule_request = UpsertComplianceRuleRequest(\n",
    "    id=lm.ResourceId(scope=scope, code='rule-2'),\n",
    "    name=\"restricted-sector-check\",\n",
    "    description='Simple sector restriction',\n",
    "    template_id=lm.ResourceId(scope='system', code='PropertyValueNotInList'),\n",
    "    variation='standard-not-in-list',\n",
    "    portfolio_group_id=lm.ResourceId(scope=scope, code=portfolio_group_code),\n",
    "    active=True,\n",
    "    parameters={\n",
    "        \"PropertyKey\":           hf.propertykey_parameter(f\"Instrument/simpleCompliance/sector\"),\n",
    "        \"ExclusivePropertyList\": hf.stringlist_parameter(scope, \"restricted-sectors\")\n",
    "    },\n",
    "    properties={}\n",
    ")\n",
    "\n",
    "compliance_api.upsert_compliance_rule(upsert_compliance_rule_request=upsert_compliance_rule_request)"
   ]
  },
  {
   "cell_type": "markdown",
   "metadata": {},
   "source": [
    "### 3.3 A security count limit check"
   ]
  },
  {
   "cell_type": "code",
   "execution_count": 83,
   "metadata": {},
   "outputs": [],
   "source": [
    "upsert_compliance_rule_request = UpsertComplianceRuleRequest(\n",
    "    id=lm.ResourceId(scope=scope, code='rule-3'),\n",
    "    name=\"security-count-check\",\n",
    "    description='Simple security count restriction',\n",
    "    template_id=lm.ResourceId(scope='system', code='NumberOfSecurities'),\n",
    "    variation='standard',\n",
    "    portfolio_group_id=lm.ResourceId(scope=scope, code=portfolio_group_code),\n",
    "    active=True,\n",
    "    parameters={\n",
    "        \"UpperBound\":    hf.decimal_parameter(20),\n",
    "        \"LowerBound\":    hf.decimal_parameter(-1),\n",
    "        \"UpperWarning\":  hf.decimal_parameter(10),\n",
    "        \"LowerWarning\":  hf.decimal_parameter(-1),\n",
    "        \"Excludes\":      hf.portfolioidlist_parameter(scope, \"empty-portfolio-list\")\n",
    "    },\n",
    "    properties={}\n",
    ")\n",
    "\n",
    "compliance_api.upsert_compliance_rule(upsert_compliance_rule_request=upsert_compliance_rule_request)"
   ]
  },
  {
   "cell_type": "markdown",
   "metadata": {},
   "source": [
    "## 4. Run Compliance Rules\n",
    "\n",
    "Currently the API enables us to run compliance asat now, rather than for a specific date."
   ]
  },
  {
   "cell_type": "code",
   "execution_count": 84,
   "metadata": {},
   "outputs": [
    {
     "name": "stdout",
     "output_type": "stream",
     "text": [
      "Compliance run simpleCompliance/14d5eb24-947d-4da1-9437-cd46e5b47a96 completed.\n",
      "Instigated: 2024-01-29 17:24:17.092479+00:00, completed: 2024-01-29 17:24:17.545079+00:00\n"
     ]
    }
   ],
   "source": [
    "run_response = compliance_api.run_compliance(run_scope=scope,rule_scope=scope,is_pre_trade=True,recipe_id_scope='User',recipe_id_code='valuation_recipe_mid')\n",
    "run_code = run_response.run_id.code\n",
    "\n",
    "print(f\"Compliance run {run_response.run_id.scope}/{run_response.run_id.code} completed.\")\n",
    "print(f\"Instigated: {run_response.instigated_at}, completed: {run_response.completed_at}\")"
   ]
  },
  {
   "cell_type": "markdown",
   "metadata": {},
   "source": [
    "## 5. Analyse the compliance result\n",
    "\n",
    "### 5.1 Identify rule-level failures\n",
    "\n",
    "At a very coarse level we can determine which rules have been breached in this compliance run. We can also see a list of orders and portfolios affected by the breach.\n",
    "\n",
    "The list of orders might well be wider than initially expected. This is because LUSID compliance makes no assumptions about which orders take precedence; it takes a holistic, contingent view about compliance taking into account all orders and existing positions.\n",
    "\n",
    "Here you can see that `rule-1` has failed, and one portfolio is affected by the failure. We'll drilldown into this rule result in the following section."
   ]
  },
  {
   "cell_type": "code",
   "execution_count": 85,
   "metadata": {},
   "outputs": [
    {
     "name": "stdout",
     "output_type": "stream",
     "text": [
      "Rule-level results for run simpleCompliance/14d5eb24-947d-4da1-9437-cd46e5b47a96.\n"
     ]
    },
    {
     "data": {
      "text/html": [
       "<div>\n",
       "<style scoped>\n",
       "    .dataframe tbody tr th:only-of-type {\n",
       "        vertical-align: middle;\n",
       "    }\n",
       "\n",
       "    .dataframe tbody tr th {\n",
       "        vertical-align: top;\n",
       "    }\n",
       "\n",
       "    .dataframe thead tr th {\n",
       "        text-align: left;\n",
       "    }\n",
       "</style>\n",
       "<table border=\"1\" class=\"dataframe\">\n",
       "  <thead>\n",
       "    <tr>\n",
       "      <th></th>\n",
       "      <th colspan=\"5\" halign=\"left\"></th>\n",
       "    </tr>\n",
       "    <tr>\n",
       "      <th></th>\n",
       "      <th>Rule</th>\n",
       "      <th>Rule Description</th>\n",
       "      <th>Status</th>\n",
       "      <th>Affected Orders</th>\n",
       "      <th>Affected Portfolios</th>\n",
       "    </tr>\n",
       "  </thead>\n",
       "  <tbody>\n",
       "    <tr>\n",
       "      <th>0</th>\n",
       "      <td>simpleCompliance/rule-2</td>\n",
       "      <td>Simple sector restriction</td>\n",
       "      <td>Failed</td>\n",
       "      <td>0</td>\n",
       "      <td>1</td>\n",
       "    </tr>\n",
       "    <tr>\n",
       "      <th>1</th>\n",
       "      <td>simpleCompliance/rule-3</td>\n",
       "      <td>Simple security count restriction</td>\n",
       "      <td>Warning</td>\n",
       "      <td>0</td>\n",
       "      <td>1</td>\n",
       "    </tr>\n",
       "    <tr>\n",
       "      <th>2</th>\n",
       "      <td>simpleCompliance/rule-1</td>\n",
       "      <td>Simple threshold PV check</td>\n",
       "      <td>Failed</td>\n",
       "      <td>0</td>\n",
       "      <td>1</td>\n",
       "    </tr>\n",
       "  </tbody>\n",
       "</table>\n",
       "</div>"
      ],
      "text/plain": [
       "                                                                        \\\n",
       "                      Rule                   Rule Description   Status   \n",
       "0  simpleCompliance/rule-2          Simple sector restriction   Failed   \n",
       "1  simpleCompliance/rule-3  Simple security count restriction  Warning   \n",
       "2  simpleCompliance/rule-1          Simple threshold PV check   Failed   \n",
       "\n",
       "                                       \n",
       "  Affected Orders Affected Portfolios  \n",
       "0               0                   1  \n",
       "1               0                   1  \n",
       "2               0                   1  "
      ]
     },
     "metadata": {},
     "output_type": "display_data"
    }
   ],
   "source": [
    "run_summary = compliance_api.get_decorated_compliance_run_summary(scope=scope, code=run_code)\n",
    "\n",
    "df = hf.rule_level_dataframe(run_summary)\n",
    "\n",
    "print(f\"Rule-level results for run {run_summary.run_id.scope}/{run_summary.run_id.code}.\")\n",
    "display(df)"
   ]
  },
  {
   "cell_type": "markdown",
   "metadata": {},
   "source": [
    "### 5.2 Drilldown into specific rule results\n",
    "\n",
    "#### 5.2.1 Simple PV threshold breach\n",
    "\n",
    "`rule-1` failed the compliance check overall. This rule is a simple 10% PV contribution threshold check often used to control portfolio diversification, so a failure indicates that one or more instruments contributed more than 10%. Taking a look at the drilldown data for this rule we can see that `GB00B1XZS820`, `GB00BH4HKS39`, `GB00BGDT3G23` and `GB00BH0P3Z91` in the `EQUITY_UK` portfolio each contribute more than 10%.\n",
    "\n",
    "The rule is structured to\n",
    "- start with all holdings in portfolio group `EQUITY_GROUP_UK` (the initial group)\n",
    "- group contributions *by portfolio id*\n",
    "- further group contributions for each portfolio *by Isin*\n",
    "- finally, compare a pair of Results Used (Valuation/PVInReportCcy compared to portfolio-level Valuation/PVInReportCcy) *(checking that one is less than 10% of the other)*\n",
    "\n",
    "We can see this structure represented in the template variation we've chosen for this rule, with the parameters each step requires:"
   ]
  },
  {
   "cell_type": "code",
   "execution_count": 92,
   "metadata": {},
   "outputs": [
    {
     "data": {
      "text/html": [
       "<div>\n",
       "<style scoped>\n",
       "    .dataframe tbody tr th:only-of-type {\n",
       "        vertical-align: middle;\n",
       "    }\n",
       "\n",
       "    .dataframe tbody tr th {\n",
       "        vertical-align: top;\n",
       "    }\n",
       "\n",
       "    .dataframe thead tr th {\n",
       "        text-align: left;\n",
       "    }\n",
       "</style>\n",
       "<table border=\"1\" class=\"dataframe\">\n",
       "  <thead>\n",
       "    <tr>\n",
       "      <th></th>\n",
       "      <th colspan=\"2\" halign=\"left\"></th>\n",
       "    </tr>\n",
       "    <tr>\n",
       "      <th></th>\n",
       "      <th>Step Label</th>\n",
       "      <th>Step Type</th>\n",
       "    </tr>\n",
       "  </thead>\n",
       "  <tbody>\n",
       "    <tr>\n",
       "      <th>0</th>\n",
       "      <td>Portfolios</td>\n",
       "      <td>GroupByStep</td>\n",
       "    </tr>\n",
       "  </tbody>\n",
       "</table>\n",
       "</div>"
      ],
      "text/plain": [
       "                          \n",
       "   Step Label    Step Type\n",
       "0  Portfolios  GroupByStep"
      ]
     },
     "metadata": {},
     "output_type": "display_data"
    },
    {
     "data": {
      "text/html": [
       "<div>\n",
       "<style scoped>\n",
       "    .dataframe tbody tr th:only-of-type {\n",
       "        vertical-align: middle;\n",
       "    }\n",
       "\n",
       "    .dataframe tbody tr th {\n",
       "        vertical-align: top;\n",
       "    }\n",
       "\n",
       "    .dataframe thead tr th {\n",
       "        text-align: left;\n",
       "    }\n",
       "</style>\n",
       "<table border=\"1\" class=\"dataframe\">\n",
       "  <thead>\n",
       "    <tr>\n",
       "      <th></th>\n",
       "      <th colspan=\"2\" halign=\"left\"></th>\n",
       "      <th>Params</th>\n",
       "    </tr>\n",
       "    <tr>\n",
       "      <th></th>\n",
       "      <th>Step Label</th>\n",
       "      <th>Step Type</th>\n",
       "      <th>GroupingPropertyKey</th>\n",
       "    </tr>\n",
       "  </thead>\n",
       "  <tbody>\n",
       "    <tr>\n",
       "      <th>0</th>\n",
       "      <td>FinalGrouping</td>\n",
       "      <td>GroupByStep</td>\n",
       "      <td>PropertyKey</td>\n",
       "    </tr>\n",
       "  </tbody>\n",
       "</table>\n",
       "</div>"
      ],
      "text/plain": [
       "                                           Params\n",
       "      Step Label    Step Type GroupingPropertyKey\n",
       "0  FinalGrouping  GroupByStep         PropertyKey"
      ]
     },
     "metadata": {},
     "output_type": "display_data"
    },
    {
     "data": {
      "text/html": [
       "<div>\n",
       "<style scoped>\n",
       "    .dataframe tbody tr th:only-of-type {\n",
       "        vertical-align: middle;\n",
       "    }\n",
       "\n",
       "    .dataframe tbody tr th {\n",
       "        vertical-align: top;\n",
       "    }\n",
       "\n",
       "    .dataframe thead tr th {\n",
       "        text-align: left;\n",
       "    }\n",
       "</style>\n",
       "<table border=\"1\" class=\"dataframe\">\n",
       "  <thead>\n",
       "    <tr>\n",
       "      <th></th>\n",
       "      <th colspan=\"2\" halign=\"left\"></th>\n",
       "      <th colspan=\"3\" halign=\"left\">Limit Params</th>\n",
       "      <th colspan=\"3\" halign=\"left\">Warning Params</th>\n",
       "    </tr>\n",
       "    <tr>\n",
       "      <th></th>\n",
       "      <th>Step Label</th>\n",
       "      <th>Step Type</th>\n",
       "      <th>LowerBound</th>\n",
       "      <th>Metric</th>\n",
       "      <th>UpperBound</th>\n",
       "      <th>LowerWarning</th>\n",
       "      <th>Metric</th>\n",
       "      <th>UpperWarning</th>\n",
       "    </tr>\n",
       "  </thead>\n",
       "  <tbody>\n",
       "    <tr>\n",
       "      <th>0</th>\n",
       "      <td>Compare</td>\n",
       "      <td>GroupFilterStep</td>\n",
       "      <td>Decimal</td>\n",
       "      <td>AddressKey</td>\n",
       "      <td>Decimal</td>\n",
       "      <td>Decimal</td>\n",
       "      <td>AddressKey</td>\n",
       "      <td>Decimal</td>\n",
       "    </tr>\n",
       "  </tbody>\n",
       "</table>\n",
       "</div>"
      ],
      "text/plain": [
       "                              Limit Params                         \\\n",
       "  Step Label        Step Type   LowerBound      Metric UpperBound   \n",
       "0    Compare  GroupFilterStep      Decimal  AddressKey    Decimal   \n",
       "\n",
       "  Warning Params                           \n",
       "    LowerWarning      Metric UpperWarning  \n",
       "0        Decimal  AddressKey      Decimal  "
      ]
     },
     "metadata": {},
     "output_type": "display_data"
    }
   ],
   "source": [
    "percent_check = compliance_api.get_compliance_template(scope=\"system\", code=\"PercentCheck\")\n",
    "steps = [v for v in percent_check.variations if v.label == 'simple'][0].steps\n",
    "\n",
    "for s in steps:\n",
    "    hf.variation_steps_to_dataframe(s)"
   ]
  },
  {
   "cell_type": "markdown",
   "metadata": {},
   "source": [
    "This information is represented by the Lineage for each drilldown row; the Lineage can be used to get a high-level view of what's caused a rule breach, and a pointer to where to start more detailed investigations if needed."
   ]
  },
  {
   "cell_type": "code",
   "execution_count": 87,
   "metadata": {},
   "outputs": [
    {
     "name": "stdout",
     "output_type": "stream",
     "text": [
      "Rule drilldown for simpleCompliance/rule-1 from PreTrade run simpleCompliance/14d5eb24-947d-4da1-9437-cd46e5b47a96, asat 2024-01-29 17:24:17.092479+00:00\n"
     ]
    },
    {
     "data": {
      "text/html": [
       "<div>\n",
       "<style scoped>\n",
       "    .dataframe tbody tr th:only-of-type {\n",
       "        vertical-align: middle;\n",
       "    }\n",
       "\n",
       "    .dataframe tbody tr th {\n",
       "        vertical-align: top;\n",
       "    }\n",
       "\n",
       "    .dataframe thead tr th {\n",
       "        text-align: left;\n",
       "    }\n",
       "</style>\n",
       "<table border=\"1\" class=\"dataframe\">\n",
       "  <thead>\n",
       "    <tr>\n",
       "      <th></th>\n",
       "      <th colspan=\"4\" halign=\"left\">Lineage</th>\n",
       "      <th colspan=\"2\" halign=\"left\">Details</th>\n",
       "      <th colspan=\"2\" halign=\"left\">Results Used</th>\n",
       "      <th colspan=\"2\" halign=\"left\">Parameters Used</th>\n",
       "    </tr>\n",
       "    <tr>\n",
       "      <th></th>\n",
       "      <th>Initial</th>\n",
       "      <th>Portfolios</th>\n",
       "      <th>FinalGrouping</th>\n",
       "      <th>Compare</th>\n",
       "      <th>Status</th>\n",
       "      <th>Missing Data</th>\n",
       "      <th>Portfolios.Valuation/PvInReportCcy</th>\n",
       "      <th>Valuation/PvInReportCcy</th>\n",
       "      <th>LowerBound</th>\n",
       "      <th>UpperBound</th>\n",
       "    </tr>\n",
       "  </thead>\n",
       "  <tbody>\n",
       "    <tr>\n",
       "      <th>6</th>\n",
       "      <td>Initial</td>\n",
       "      <td>simpleCompliance/EQUITY_UK</td>\n",
       "      <td>GB00BH0P3Z91</td>\n",
       "      <td>GB00BH0P3Z91</td>\n",
       "      <td>Failed</td>\n",
       "      <td>0</td>\n",
       "      <td>3417890.0</td>\n",
       "      <td>772200.0</td>\n",
       "      <td>-1</td>\n",
       "      <td>10</td>\n",
       "    </tr>\n",
       "    <tr>\n",
       "      <th>7</th>\n",
       "      <td>Initial</td>\n",
       "      <td>simpleCompliance/EQUITY_UK</td>\n",
       "      <td>GB00BGDT3G23</td>\n",
       "      <td>GB00BGDT3G23</td>\n",
       "      <td>Failed</td>\n",
       "      <td>0</td>\n",
       "      <td>3417890.0</td>\n",
       "      <td>372000.0</td>\n",
       "      <td>-1</td>\n",
       "      <td>10</td>\n",
       "    </tr>\n",
       "    <tr>\n",
       "      <th>8</th>\n",
       "      <td>Initial</td>\n",
       "      <td>simpleCompliance/EQUITY_UK</td>\n",
       "      <td>GB00BH4HKS39</td>\n",
       "      <td>GB00BH4HKS39</td>\n",
       "      <td>Failed</td>\n",
       "      <td>0</td>\n",
       "      <td>3417890.0</td>\n",
       "      <td>490500.0</td>\n",
       "      <td>-1</td>\n",
       "      <td>10</td>\n",
       "    </tr>\n",
       "    <tr>\n",
       "      <th>9</th>\n",
       "      <td>Initial</td>\n",
       "      <td>simpleCompliance/EQUITY_UK</td>\n",
       "      <td>GB00B1XZS820</td>\n",
       "      <td>GB00B1XZS820</td>\n",
       "      <td>Failed</td>\n",
       "      <td>0</td>\n",
       "      <td>3417890.0</td>\n",
       "      <td>488950.0</td>\n",
       "      <td>-1</td>\n",
       "      <td>10</td>\n",
       "    </tr>\n",
       "  </tbody>\n",
       "</table>\n",
       "</div>"
      ],
      "text/plain": [
       "   Lineage                                                         Details  \\\n",
       "   Initial                  Portfolios FinalGrouping       Compare  Status   \n",
       "6  Initial  simpleCompliance/EQUITY_UK  GB00BH0P3Z91  GB00BH0P3Z91  Failed   \n",
       "7  Initial  simpleCompliance/EQUITY_UK  GB00BGDT3G23  GB00BGDT3G23  Failed   \n",
       "8  Initial  simpleCompliance/EQUITY_UK  GB00BH4HKS39  GB00BH4HKS39  Failed   \n",
       "9  Initial  simpleCompliance/EQUITY_UK  GB00B1XZS820  GB00B1XZS820  Failed   \n",
       "\n",
       "                                     Results Used                          \\\n",
       "  Missing Data Portfolios.Valuation/PvInReportCcy Valuation/PvInReportCcy   \n",
       "6            0                          3417890.0                772200.0   \n",
       "7            0                          3417890.0                372000.0   \n",
       "8            0                          3417890.0                490500.0   \n",
       "9            0                          3417890.0                488950.0   \n",
       "\n",
       "  Parameters Used             \n",
       "       LowerBound UpperBound  \n",
       "6              -1         10  \n",
       "7              -1         10  \n",
       "8              -1         10  \n",
       "9              -1         10  "
      ]
     },
     "metadata": {},
     "output_type": "display_data"
    }
   ],
   "source": [
    "\n",
    "rule_result = compliance_api.get_compliance_rule_result(run_scope=scope, run_code=run_code, rule_scope=scope, rule_code='rule-1')\n",
    "\n",
    "df = hf.rule_result_dataframe(rule_result)\n",
    "\n",
    "print(f\"Rule drilldown for {rule_result.rule_result.rule_id.scope}/{rule_result.rule_result.rule_id.code} from {rule_result.schedule} run {rule_result.run_id.scope}/{rule_result.run_id.code}, asat {rule_result.instigated_at}\")\n",
    "display(df[df['Details']['Status'] == 'Failed'])"
   ]
  },
  {
   "cell_type": "markdown",
   "metadata": {},
   "source": [
    "### 5.2.2 Restricted sector breach\n",
    "\n",
    "`rule-2` failed the compliance check overall. This rule prevents trade in a restricted set of sectors (specifically just Mining in this case), so a failure indicates that one or more holdings across the whole portfolio group are of an instrument from a restricted sector."
   ]
  },
  {
   "cell_type": "code",
   "execution_count": 88,
   "metadata": {},
   "outputs": [
    {
     "name": "stdout",
     "output_type": "stream",
     "text": [
      "Rule drilldown for simpleCompliance/rule-2 from PreTrade run simpleCompliance/14d5eb24-947d-4da1-9437-cd46e5b47a96, asat 2024-01-29 17:24:17.092479+00:00\n"
     ]
    },
    {
     "data": {
      "text/html": [
       "<div>\n",
       "<style scoped>\n",
       "    .dataframe tbody tr th:only-of-type {\n",
       "        vertical-align: middle;\n",
       "    }\n",
       "\n",
       "    .dataframe tbody tr th {\n",
       "        vertical-align: top;\n",
       "    }\n",
       "\n",
       "    .dataframe thead tr th {\n",
       "        text-align: left;\n",
       "    }\n",
       "</style>\n",
       "<table border=\"1\" class=\"dataframe\">\n",
       "  <thead>\n",
       "    <tr>\n",
       "      <th></th>\n",
       "      <th colspan=\"3\" halign=\"left\">Lineage</th>\n",
       "      <th colspan=\"2\" halign=\"left\">Details</th>\n",
       "      <th colspan=\"2\" halign=\"left\">Parameters Used</th>\n",
       "    </tr>\n",
       "    <tr>\n",
       "      <th></th>\n",
       "      <th>Initial</th>\n",
       "      <th>PropertyGrouped</th>\n",
       "      <th>Compare</th>\n",
       "      <th>Status</th>\n",
       "      <th>Missing Data</th>\n",
       "      <th>ExclusivePropertyList</th>\n",
       "      <th>PropertyKey</th>\n",
       "    </tr>\n",
       "  </thead>\n",
       "  <tbody>\n",
       "    <tr>\n",
       "      <th>5</th>\n",
       "      <td>Initial</td>\n",
       "      <td>Instrument/simpleCompliance/sector=Mining</td>\n",
       "      <td>Instrument/simpleCompliance/sector=Mining</td>\n",
       "      <td>Failed</td>\n",
       "      <td>0</td>\n",
       "      <td>Mining</td>\n",
       "      <td>Instrument/simpleCompliance/sector</td>\n",
       "    </tr>\n",
       "  </tbody>\n",
       "</table>\n",
       "</div>"
      ],
      "text/plain": [
       "   Lineage                                             \\\n",
       "   Initial                            PropertyGrouped   \n",
       "5  Initial  Instrument/simpleCompliance/sector=Mining   \n",
       "\n",
       "                                             Details               \\\n",
       "                                     Compare  Status Missing Data   \n",
       "5  Instrument/simpleCompliance/sector=Mining  Failed            0   \n",
       "\n",
       "        Parameters Used                                      \n",
       "  ExclusivePropertyList                         PropertyKey  \n",
       "5                Mining  Instrument/simpleCompliance/sector  "
      ]
     },
     "metadata": {},
     "output_type": "display_data"
    }
   ],
   "source": [
    "rule_result = compliance_api.get_compliance_rule_result(run_scope=scope, run_code=run_code, rule_scope=scope, rule_code='rule-2')\n",
    "\n",
    "df = hf.rule_result_dataframe(rule_result)\n",
    "\n",
    "print(f\"Rule drilldown for {rule_result.rule_result.rule_id.scope}/{rule_result.rule_result.rule_id.code} from {rule_result.schedule} run {rule_result.run_id.scope}/{rule_result.run_id.code}, asat {rule_result.instigated_at}\")\n",
    "display(df[df['Details']['Status'] == 'Failed'])"
   ]
  },
  {
   "cell_type": "markdown",
   "metadata": {},
   "source": [
    "### 5.2.3 Security count warning\n",
    "\n",
    "`rule-3` doesn't fail, but does trigger a warning. This rule is configured to warn if there are more than 20 securities in the portfolio.\n",
    "TODO: confirm this is even working right."
   ]
  },
  {
   "cell_type": "code",
   "execution_count": 89,
   "metadata": {},
   "outputs": [
    {
     "name": "stdout",
     "output_type": "stream",
     "text": [
      "Rule drilldown for simpleCompliance/rule-3 from PreTrade run simpleCompliance/14d5eb24-947d-4da1-9437-cd46e5b47a96, asat 2024-01-29 17:24:17.092479+00:00\n"
     ]
    },
    {
     "data": {
      "text/html": [
       "<div>\n",
       "<style scoped>\n",
       "    .dataframe tbody tr th:only-of-type {\n",
       "        vertical-align: middle;\n",
       "    }\n",
       "\n",
       "    .dataframe tbody tr th {\n",
       "        vertical-align: top;\n",
       "    }\n",
       "\n",
       "    .dataframe thead tr th {\n",
       "        text-align: left;\n",
       "    }\n",
       "</style>\n",
       "<table border=\"1\" class=\"dataframe\">\n",
       "  <thead>\n",
       "    <tr>\n",
       "      <th></th>\n",
       "      <th colspan=\"4\" halign=\"left\">Lineage</th>\n",
       "      <th colspan=\"2\" halign=\"left\">Details</th>\n",
       "      <th colspan=\"2\" halign=\"left\">Parameters Used</th>\n",
       "    </tr>\n",
       "    <tr>\n",
       "      <th></th>\n",
       "      <th>Initial</th>\n",
       "      <th>WithoutExcludedPortfolios</th>\n",
       "      <th>Portfolios</th>\n",
       "      <th>FinalCheck</th>\n",
       "      <th>Status</th>\n",
       "      <th>Missing Data</th>\n",
       "      <th>LowerBound</th>\n",
       "      <th>UpperBound</th>\n",
       "    </tr>\n",
       "  </thead>\n",
       "  <tbody>\n",
       "    <tr>\n",
       "      <th>0</th>\n",
       "      <td>Initial</td>\n",
       "      <td>WithoutExcludedPortfolios</td>\n",
       "      <td>local-platform/simpleCompliance/EQUITY_UK</td>\n",
       "      <td>local-platform/simpleCompliance/EQUITY_UK</td>\n",
       "      <td>Warning</td>\n",
       "      <td>0</td>\n",
       "      <td>-1</td>\n",
       "      <td>20</td>\n",
       "    </tr>\n",
       "  </tbody>\n",
       "</table>\n",
       "</div>"
      ],
      "text/plain": [
       "   Lineage                             \\\n",
       "   Initial  WithoutExcludedPortfolios   \n",
       "0  Initial  WithoutExcludedPortfolios   \n",
       "\n",
       "                                              \\\n",
       "                                  Portfolios   \n",
       "0  local-platform/simpleCompliance/EQUITY_UK   \n",
       "\n",
       "                                              Details               \\\n",
       "                                  FinalCheck   Status Missing Data   \n",
       "0  local-platform/simpleCompliance/EQUITY_UK  Warning            0   \n",
       "\n",
       "  Parameters Used             \n",
       "       LowerBound UpperBound  \n",
       "0              -1         20  "
      ]
     },
     "metadata": {},
     "output_type": "display_data"
    }
   ],
   "source": [
    "rule_result = compliance_api.get_compliance_rule_result(run_scope=scope, run_code=run_code, rule_scope=scope, rule_code='rule-3')\n",
    "df = hf.rule_result_dataframe(rule_result)\n",
    "\n",
    "print(f\"Rule drilldown for {rule_result.rule_result.rule_id.scope}/{rule_result.rule_result.rule_id.code} from {rule_result.schedule} run {rule_result.run_id.scope}/{rule_result.run_id.code}, asat {rule_result.instigated_at}\")\n",
    "display(df[df['Details']['Status'] == 'Warning'])"
   ]
  }
 ],
 "metadata": {
  "kernelspec": {
   "display_name": ".venv",
   "language": "python",
   "name": "python3"
  },
  "language_info": {
   "codemirror_mode": {
    "name": "ipython",
    "version": 3
   },
   "file_extension": ".py",
   "mimetype": "text/x-python",
   "name": "python",
   "nbconvert_exporter": "python",
   "pygments_lexer": "ipython3",
   "version": "3.12.1"
  }
 },
 "nbformat": 4,
 "nbformat_minor": 2
}
